{
 "cells": [
  {
   "cell_type": "markdown",
   "id": "6837fac1-4283-45b3-806b-3ecab5da94bc",
   "metadata": {},
   "source": [
    "Q1. Explain Class and Object with respect to Object-Oriented Programming. Give a suitable example."
   ]
  },
  {
   "cell_type": "markdown",
   "id": "2dff0a89-08b1-491c-b327-5929c93ca7b8",
   "metadata": {},
   "source": [
    "==> class is a code blueprint which proves to be useful for that specific thing, it has some pre-defined attributes and methods.\n",
    "\n",
    "==>  object is simply an instance of that class"
   ]
  },
  {
   "cell_type": "code",
   "execution_count": 1,
   "id": "f04d7ff9-38ad-4f11-95ea-6b3a3becb902",
   "metadata": {
    "tags": []
   },
   "outputs": [],
   "source": [
    "class student:\n",
    "    \n",
    "    def __init__(self, phoneNum, email, studentID):\n",
    "        self.phoneNum = phoneNum\n",
    "        self.email = email\n",
    "        self.studentID = studentID\n",
    "    \n",
    "    def return_details(self):\n",
    "        return self.phoneNum, self.email, self.studentID"
   ]
  },
  {
   "cell_type": "code",
   "execution_count": 2,
   "id": "475e0067-8ee5-4197-90db-8a16fe0c918b",
   "metadata": {
    "tags": []
   },
   "outputs": [],
   "source": [
    "james = student(941623218, 'james123@gmail.com', 119)"
   ]
  },
  {
   "cell_type": "markdown",
   "id": "5dd52ffc-3191-4154-857e-4e41c18854ad",
   "metadata": {},
   "source": [
    "Here, student is a class and james is a an object of that class"
   ]
  },
  {
   "cell_type": "markdown",
   "id": "9c4e6981-d9b8-4729-8b51-a979f0a3ac33",
   "metadata": {},
   "source": [
    "Q2. Name the four pillars of OOPs."
   ]
  },
  {
   "cell_type": "markdown",
   "id": "6c6f2a5d-633f-492b-bef2-b76fe47e3c9f",
   "metadata": {},
   "source": [
    "1. Abstraction\n",
    "2. Encapsulation\n",
    "3. Inheritance\n",
    "4. Polymorphism"
   ]
  },
  {
   "cell_type": "markdown",
   "id": "8060ba0d-820f-4ba2-89be-928ba8180a29",
   "metadata": {},
   "source": [
    "Q3. Explain why the _ _init_ _() function is used. Give a suitable example."
   ]
  },
  {
   "cell_type": "markdown",
   "id": "1eee3e9e-f332-4d82-a67c-4b91ffc5ebd5",
   "metadata": {},
   "source": [
    "It is used to initialize the data members of a class when an object is created. __ init __() contains a collection of statements that are executed at the time of object creation"
   ]
  },
  {
   "cell_type": "code",
   "execution_count": 3,
   "id": "d45af829-9b6f-4acc-a675-ee6ea57abd66",
   "metadata": {
    "tags": []
   },
   "outputs": [
    {
     "ename": "ZeroDivisionError",
     "evalue": "division by zero",
     "output_type": "error",
     "traceback": [
      "\u001b[1;31m---------------------------------------------------------------------------\u001b[0m",
      "\u001b[1;31mZeroDivisionError\u001b[0m                         Traceback (most recent call last)",
      "Cell \u001b[1;32mIn[3], line 1\u001b[0m\n\u001b[1;32m----> 1\u001b[0m \u001b[38;5;241;43m1\u001b[39;49m\u001b[38;5;241;43m/\u001b[39;49m\u001b[38;5;28;43;01mFalse\u001b[39;49;00m\n",
      "\u001b[1;31mZeroDivisionError\u001b[0m: division by zero"
     ]
    }
   ],
   "source": [
    "1/False"
   ]
  },
  {
   "cell_type": "code",
   "execution_count": 4,
   "id": "3ff095e6-a4a2-4f5a-a6e6-eb9265b54d18",
   "metadata": {
    "tags": []
   },
   "outputs": [
    {
     "ename": "ZeroDivisionError",
     "evalue": "division by zero",
     "output_type": "error",
     "traceback": [
      "\u001b[1;31m---------------------------------------------------------------------------\u001b[0m",
      "\u001b[1;31mZeroDivisionError\u001b[0m                         Traceback (most recent call last)",
      "Cell \u001b[1;32mIn[4], line 1\u001b[0m\n\u001b[1;32m----> 1\u001b[0m \u001b[38;5;28;43;01mTrue\u001b[39;49;00m\u001b[38;5;241;43m/\u001b[39;49m\u001b[38;5;28;43;01mFalse\u001b[39;49;00m\n",
      "\u001b[1;31mZeroDivisionError\u001b[0m: division by zero"
     ]
    }
   ],
   "source": [
    "True/False"
   ]
  },
  {
   "cell_type": "code",
   "execution_count": 5,
   "id": "cce465f2-3e0f-4c29-8e6c-e68dc25b796b",
   "metadata": {
    "tags": []
   },
   "outputs": [],
   "source": [
    "t = (1,2,3,1,1,4,5,5,3)"
   ]
  },
  {
   "cell_type": "code",
   "execution_count": 6,
   "id": "f16fe44d-eaa0-4651-ba9a-4a155d15e17a",
   "metadata": {
    "tags": []
   },
   "outputs": [
    {
     "data": {
      "text/plain": [
       "(1, 2, 3, 1, 1, 4, 5, 5, 3)"
      ]
     },
     "execution_count": 6,
     "metadata": {},
     "output_type": "execute_result"
    }
   ],
   "source": [
    "t"
   ]
  },
  {
   "cell_type": "code",
   "execution_count": 7,
   "id": "34f8228b-b1d5-4eaf-9c17-5dc9313bf8b0",
   "metadata": {
    "tags": []
   },
   "outputs": [],
   "source": [
    "mydict = {'a':1, 'b':2, 'c':3}"
   ]
  },
  {
   "cell_type": "code",
   "execution_count": 8,
   "id": "b12a5705-6100-4ea9-affe-ddc1a3f9462e",
   "metadata": {
    "tags": []
   },
   "outputs": [],
   "source": [
    "myset = set(mydict.keys())"
   ]
  },
  {
   "cell_type": "code",
   "execution_count": 9,
   "id": "a5f50a60-ac08-40a4-aafc-454fde02e132",
   "metadata": {
    "tags": []
   },
   "outputs": [],
   "source": [
    "myset.add('d')"
   ]
  },
  {
   "cell_type": "code",
   "execution_count": 10,
   "id": "2714a38d-41ba-401c-a8c8-8870608d873e",
   "metadata": {
    "tags": []
   },
   "outputs": [
    {
     "name": "stdout",
     "output_type": "stream",
     "text": [
      "{'a': 1, 'b': 2, 'c': 3}\n"
     ]
    }
   ],
   "source": [
    "print(mydict)"
   ]
  },
  {
   "cell_type": "code",
   "execution_count": null,
   "id": "bcb9271a-6ba1-4059-9a55-076423a2633f",
   "metadata": {},
   "outputs": [],
   "source": []
  }
 ],
 "metadata": {
  "kernelspec": {
   "display_name": "Python 3 (ipykernel)",
   "language": "python",
   "name": "python3"
  },
  "language_info": {
   "codemirror_mode": {
    "name": "ipython",
    "version": 3
   },
   "file_extension": ".py",
   "mimetype": "text/x-python",
   "name": "python",
   "nbconvert_exporter": "python",
   "pygments_lexer": "ipython3",
   "version": "3.11.2"
  }
 },
 "nbformat": 4,
 "nbformat_minor": 5
}
