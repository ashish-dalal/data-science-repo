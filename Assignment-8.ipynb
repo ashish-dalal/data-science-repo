{
 "cells": [
  {
   "cell_type": "markdown",
   "id": "d23de8e7-6f8c-4090-a2f4-6d296c849578",
   "metadata": {},
   "source": [
    "Q1. You are writing code for a company. The requirement of the company is that you create a python\n",
    "function that will check whether the password entered by the user is correct or not. The function should\n",
    "take the password as input and return the string “Valid Password” if the entered password follows the\n",
    "below-given password guidelines else it should return “Invalid Password”.\n",
    "\n",
    "Note: \n",
    "1. The Password should contain at least two uppercase letters and at least two lowercase letters.\n",
    "2. The Password should contain at least a number and three special characters.\n",
    "3. The length of the password should be 10 characters long."
   ]
  },
  {
   "cell_type": "code",
   "execution_count": null,
   "id": "09e526c5-5ee5-4a3f-b579-3a3edf97856f",
   "metadata": {},
   "outputs": [],
   "source": []
  },
  {
   "cell_type": "code",
   "execution_count": 26,
   "id": "dfb31a41-23de-4bd1-bf0f-cd0216924fee",
   "metadata": {
    "tags": []
   },
   "outputs": [],
   "source": [
    "alpLower = \"abcdefghijklmnopqrstuvwxyz\"\n",
    "alpUpper = \"ABCDEFGHIJKLMNOPQRSTUVWXYZ\"\n",
    "spChar = \"!@#$%^&*|\\/[]{}-_=+?~\""
   ]
  },
  {
   "cell_type": "code",
   "execution_count": 29,
   "id": "bd241471-f38f-471f-8300-4c0d55abca0d",
   "metadata": {
    "tags": []
   },
   "outputs": [],
   "source": [
    "def checkPassword(password):\n",
    "    lowerCount = 0\n",
    "    upperCount = 0\n",
    "    spCharCount = 0\n",
    "    isNum = False\n",
    "    for x in password:\n",
    "        if x in alpUpper:\n",
    "            upperCount+=1\n",
    "        if x in alpLower:\n",
    "            lowerCount+=1\n",
    "        if x in spChar:\n",
    "            spCharCount+=1\n",
    "        if x.isnumeric() == True:\n",
    "            isNum = True\n",
    "    \n",
    "    if upperCount>=2 and lowerCount>=2 and isNum and spCharCount >=3 and len(password) >= 10:\n",
    "        print(\"Valid Password\")\n",
    "    else:\n",
    "        print(\"Invalid Password\")"
   ]
  },
  {
   "cell_type": "code",
   "execution_count": 31,
   "id": "8cdead32-35ce-4db0-bda4-25781a5d8b4f",
   "metadata": {
    "tags": []
   },
   "outputs": [
    {
     "name": "stdin",
     "output_type": "stream",
     "text": [
      "enter your password:  ashish\n"
     ]
    }
   ],
   "source": [
    "pw = input(\"enter your password: \")"
   ]
  },
  {
   "cell_type": "code",
   "execution_count": 32,
   "id": "7e4d61e8-ada3-4af5-bee9-cff8a79acc44",
   "metadata": {
    "tags": []
   },
   "outputs": [
    {
     "name": "stdout",
     "output_type": "stream",
     "text": [
      "Invalid Password\n"
     ]
    }
   ],
   "source": [
    "checkPassword(pw)"
   ]
  },
  {
   "cell_type": "markdown",
   "id": "06110212-fb51-43d8-bfb5-45caa65f1798",
   "metadata": {},
   "source": [
    "Q2. Solve the below-given questions using at least one of the following:\n",
    "1. Lambda function\n",
    "2. Filter function\n",
    "3. Map function\n",
    "4. List Comprehension\n",
    "\n",
    "-Check if the string starts with a particular letter\n",
    "\n",
    "-Check if the string is numeric\n",
    "\n",
    "-Sort a list of tuples having fruit names and their quantity. \n",
    "    [(\"mango\",99),(\"orange\",80), (\"grapes\", 1000)]\n",
    "\n",
    "-Find the squares of numbers from 1 to 10\n",
    "\n",
    "-Find the cube root of numbers from 1 to 10\n",
    "\n",
    "-Check if a given number is even\n",
    "\n",
    "-Filter odd numbers from the given list.\n",
    "    [1,2,3,4,5,6,7,8,9,10]\n",
    "\n",
    "-Sort a list of integers into positive and negative integers lists.\n",
    "    [1,2,3,4,5,6,-1,-2,-3,-4,-5,0]"
   ]
  },
  {
   "cell_type": "code",
   "execution_count": 8,
   "id": "7a039ef1-dd9d-41a5-8dd0-809235a2d2d6",
   "metadata": {},
   "outputs": [],
   "source": [
    "\"\"\"Check if the string starts with a particular letter\"\"\"\n",
    "\n",
    "def checkInit(ch, string):\n",
    "    if string[0].lower() == ch or string[0].upper() == ch:\n",
    "        return True\n",
    "    else:\n",
    "        return False"
   ]
  },
  {
   "cell_type": "code",
   "execution_count": 2,
   "id": "321eeb6c-5660-4ec8-9147-e319185a704e",
   "metadata": {
    "tags": []
   },
   "outputs": [],
   "source": [
    "s = \"turn down for what\""
   ]
  },
  {
   "cell_type": "code",
   "execution_count": 11,
   "id": "42f918bd-2401-47e3-944c-0411f750ead2",
   "metadata": {
    "tags": []
   },
   "outputs": [
    {
     "data": {
      "text/plain": [
       "False"
      ]
     },
     "execution_count": 11,
     "metadata": {},
     "output_type": "execute_result"
    }
   ],
   "source": [
    "checkInit('a',s)"
   ]
  },
  {
   "cell_type": "code",
   "execution_count": 12,
   "id": "d2ab063e-04da-4e9e-bb50-de11ffc75010",
   "metadata": {
    "tags": []
   },
   "outputs": [],
   "source": [
    "\"\"\"Sort a list of tuples having fruit names and their quantity.\"\"\" \n",
    "l1 = [(\"mango\",99),(\"orange\",80), (\"grapes\", 1000)]\n",
    "l1.sort(key = lambda x: x[1])"
   ]
  },
  {
   "cell_type": "code",
   "execution_count": 13,
   "id": "a00862cb-7166-4746-8442-d12de912f465",
   "metadata": {
    "tags": []
   },
   "outputs": [
    {
     "data": {
      "text/plain": [
       "[('orange', 80), ('mango', 99), ('grapes', 1000)]"
      ]
     },
     "execution_count": 13,
     "metadata": {},
     "output_type": "execute_result"
    }
   ],
   "source": [
    "l1"
   ]
  },
  {
   "cell_type": "code",
   "execution_count": 18,
   "id": "4357f594-1d49-469f-aa34-4c184b344148",
   "metadata": {
    "tags": []
   },
   "outputs": [
    {
     "data": {
      "text/plain": [
       "[1, 4, 9, 16, 25, 36, 49, 64, 81, 100]"
      ]
     },
     "execution_count": 18,
     "metadata": {},
     "output_type": "execute_result"
    }
   ],
   "source": [
    "\"\"\"Find the squares of numbers from 1 to 10\"\"\"\n",
    "l2 = [i*i for i in range(1,11)]\n",
    "l2"
   ]
  },
  {
   "cell_type": "code",
   "execution_count": 19,
   "id": "b9a8772c-f040-4aab-a481-c6c5ef1a8496",
   "metadata": {
    "tags": []
   },
   "outputs": [
    {
     "data": {
      "text/plain": [
       "[1.0,\n",
       " 1.259921049894873,\n",
       " 1.4422495703074083,\n",
       " 1.5874010519681994,\n",
       " 1.709975946676697,\n",
       " 1.8171205928321394,\n",
       " 1.9129311827723892,\n",
       " 2.0,\n",
       " 2.080083823051904,\n",
       " 2.154434690031884]"
      ]
     },
     "execution_count": 19,
     "metadata": {},
     "output_type": "execute_result"
    }
   ],
   "source": [
    "\"\"\"Find the cube root of numbers from 1 to 10\"\"\"\n",
    "import numpy as np\n",
    "\n",
    "l3 = [np.cbrt(i) for i in range(1,11)]\n",
    "l3"
   ]
  },
  {
   "cell_type": "code",
   "execution_count": 20,
   "id": "4b92854b-4c26-4486-ae70-169616efb1fd",
   "metadata": {
    "tags": []
   },
   "outputs": [
    {
     "data": {
      "text/plain": [
       "[1, 3, 5, 7, 9]"
      ]
     },
     "execution_count": 20,
     "metadata": {},
     "output_type": "execute_result"
    }
   ],
   "source": [
    "\"\"\"Filter odd numbers from the given list.\"\"\"\n",
    "l4 = [1,2,3,4,5,6,7,8,9,10]\n",
    "\n",
    "list(filter(lambda x: x%2!=0,l4))"
   ]
  },
  {
   "cell_type": "code",
   "execution_count": 25,
   "id": "ba5baa59-a916-41c8-af93-b612284ecc81",
   "metadata": {
    "tags": []
   },
   "outputs": [],
   "source": [
    "\"\"\"Sort a list of integers into positive and negative integers lists.\"\"\"\n",
    "l5 = [1,2,3,4,5,6,-1,-2,-3,-4,-5,0]\n",
    "\n",
    "positiveInt = list(filter(lambda x: x>0, l5))\n",
    "negativeInt = list(filter(lambda x: x<0, l5))"
   ]
  },
  {
   "cell_type": "code",
   "execution_count": 26,
   "id": "5bcefb97-d59b-4e79-911e-19a2bb5e0b0a",
   "metadata": {
    "tags": []
   },
   "outputs": [
    {
     "data": {
      "text/plain": [
       "[1, 2, 3, 4, 5, 6]"
      ]
     },
     "execution_count": 26,
     "metadata": {},
     "output_type": "execute_result"
    }
   ],
   "source": [
    "positiveInt"
   ]
  },
  {
   "cell_type": "code",
   "execution_count": 27,
   "id": "da58c15f-4f91-46d5-95d6-086a720659e8",
   "metadata": {
    "tags": []
   },
   "outputs": [
    {
     "data": {
      "text/plain": [
       "[-1, -2, -3, -4, -5]"
      ]
     },
     "execution_count": 27,
     "metadata": {},
     "output_type": "execute_result"
    }
   ],
   "source": [
    "negativeInt"
   ]
  },
  {
   "cell_type": "code",
   "execution_count": null,
   "id": "d6ff5d77-3dbd-4c0f-a57b-2ff73e7526ea",
   "metadata": {},
   "outputs": [],
   "source": []
  }
 ],
 "metadata": {
  "kernelspec": {
   "display_name": "Python 3 (ipykernel)",
   "language": "python",
   "name": "python3"
  },
  "language_info": {
   "codemirror_mode": {
    "name": "ipython",
    "version": 3
   },
   "file_extension": ".py",
   "mimetype": "text/x-python",
   "name": "python",
   "nbconvert_exporter": "python",
   "pygments_lexer": "ipython3",
   "version": "3.11.2"
  }
 },
 "nbformat": 4,
 "nbformat_minor": 5
}
