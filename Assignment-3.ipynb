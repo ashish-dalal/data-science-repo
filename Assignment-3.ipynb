{
 "cells": [
  {
   "cell_type": "markdown",
   "id": "c4304527-5d1f-49c3-8aa9-c787e4ab9665",
   "metadata": {},
   "source": [
    "Q1. Create a python program to sort the given list of tuples based on integer value using a lambda function.\n",
    "\n",
    "[('Sachin Tendulkar', 34357), ('Ricky Ponting', 27483), ('Jack Kallis', 25534), ('Virat Kohli', 24936)]"
   ]
  },
  {
   "cell_type": "code",
   "execution_count": 1,
   "id": "380c6b2d-12c1-46ae-b414-761f47c10061",
   "metadata": {
    "tags": []
   },
   "outputs": [],
   "source": [
    "l1 = [('Sachin Tendulkar', 34357), ('Ricky Ponting', 27483), ('Jack Kallis', 25534), ('Virat Kohli', 24936)]"
   ]
  },
  {
   "cell_type": "code",
   "execution_count": 3,
   "id": "b7be4046-bf35-4b29-b98a-580fc1e904a9",
   "metadata": {
    "tags": []
   },
   "outputs": [],
   "source": [
    "l2 = l1.copy()"
   ]
  },
  {
   "cell_type": "code",
   "execution_count": 4,
   "id": "1551656a-048c-4ed8-af83-c2097b3bfe88",
   "metadata": {
    "tags": []
   },
   "outputs": [],
   "source": [
    "def myfunc(a):\n",
    "    return a[1]"
   ]
  },
  {
   "cell_type": "code",
   "execution_count": 5,
   "id": "f519ed6d-0f39-44df-b079-2fc75fa89489",
   "metadata": {
    "tags": []
   },
   "outputs": [
    {
     "data": {
      "text/plain": [
       "[('Sachin Tendulkar', 34357),\n",
       " ('Ricky Ponting', 27483),\n",
       " ('Jack Kallis', 25534),\n",
       " ('Virat Kohli', 24936)]"
      ]
     },
     "execution_count": 5,
     "metadata": {},
     "output_type": "execute_result"
    }
   ],
   "source": [
    "l2"
   ]
  },
  {
   "cell_type": "code",
   "execution_count": 6,
   "id": "3f6c0407-b5a3-48ee-91b7-218c82863096",
   "metadata": {
    "tags": []
   },
   "outputs": [],
   "source": [
    "l2.sort(key = myfunc)"
   ]
  },
  {
   "cell_type": "code",
   "execution_count": 7,
   "id": "3510a533-a391-408b-a4fc-defa0fb0fbdc",
   "metadata": {
    "tags": []
   },
   "outputs": [
    {
     "data": {
      "text/plain": [
       "[('Virat Kohli', 24936),\n",
       " ('Jack Kallis', 25534),\n",
       " ('Ricky Ponting', 27483),\n",
       " ('Sachin Tendulkar', 34357)]"
      ]
     },
     "execution_count": 7,
     "metadata": {},
     "output_type": "execute_result"
    }
   ],
   "source": [
    "l2"
   ]
  },
  {
   "cell_type": "markdown",
   "id": "69640788-d602-4e12-a0fc-bc363f9bff2b",
   "metadata": {},
   "source": [
    "Q2. Write a Python Program to find the squares of all the numbers in the given list of integers using lambda and map functions."
   ]
  },
  {
   "cell_type": "code",
   "execution_count": 8,
   "id": "12b41b27-98e4-4ad1-b346-611d24f755fc",
   "metadata": {
    "tags": []
   },
   "outputs": [],
   "source": [
    "l3 = [1,2,3,4,5,6,7,8,9,10]"
   ]
  },
  {
   "cell_type": "code",
   "execution_count": 10,
   "id": "8c3d0cd2-48ee-4434-a7d6-e917f4bf8199",
   "metadata": {
    "tags": []
   },
   "outputs": [],
   "source": [
    "l4 = list(map(lambda x: x**2, l3))"
   ]
  },
  {
   "cell_type": "code",
   "execution_count": 11,
   "id": "2233706c-ffc9-4beb-9b24-b3e4bebdba03",
   "metadata": {
    "tags": []
   },
   "outputs": [
    {
     "data": {
      "text/plain": [
       "[1, 4, 9, 16, 25, 36, 49, 64, 81, 100]"
      ]
     },
     "execution_count": 11,
     "metadata": {},
     "output_type": "execute_result"
    }
   ],
   "source": [
    "l4"
   ]
  },
  {
   "cell_type": "markdown",
   "id": "234db789-8218-405d-b968-1017aef4cd05",
   "metadata": {},
   "source": [
    "Q3. Write a python program to convert the given list of integers into a tuple of strings. Use map and lambda functions\n",
    "\n",
    "Given String: [1, 2, 3, 4, 5, 6, 7, 8, 9, 10]"
   ]
  },
  {
   "cell_type": "code",
   "execution_count": 12,
   "id": "248ca6ca-082a-4c9b-8d9f-826c611a66ca",
   "metadata": {
    "tags": []
   },
   "outputs": [],
   "source": [
    "t1 = tuple(map(lambda x: str(x), l3))"
   ]
  },
  {
   "cell_type": "code",
   "execution_count": 13,
   "id": "37f235cb-a842-43c8-b4fa-b1c5e0c0e3d3",
   "metadata": {
    "tags": []
   },
   "outputs": [
    {
     "data": {
      "text/plain": [
       "('1', '2', '3', '4', '5', '6', '7', '8', '9', '10')"
      ]
     },
     "execution_count": 13,
     "metadata": {},
     "output_type": "execute_result"
    }
   ],
   "source": [
    "t1"
   ]
  },
  {
   "cell_type": "markdown",
   "id": "0b540574-33de-4259-a3f4-d9f7944a94ed",
   "metadata": {},
   "source": [
    "Q4. Write a python program using reduce function to compute the product of a list containing numbers from 1 to 25."
   ]
  },
  {
   "cell_type": "code",
   "execution_count": 14,
   "id": "7e26a756-a2bd-40f3-98d4-5be025ecd0f1",
   "metadata": {
    "tags": []
   },
   "outputs": [],
   "source": [
    "from functools import reduce\n",
    "\n",
    "l5 = [i for i in range(1,26)]"
   ]
  },
  {
   "cell_type": "code",
   "execution_count": 15,
   "id": "168e14da-fcc3-4a7d-960c-bfadde0d8473",
   "metadata": {
    "tags": []
   },
   "outputs": [],
   "source": [
    "prod = reduce(lambda x,y: x*y, l5)"
   ]
  },
  {
   "cell_type": "code",
   "execution_count": 16,
   "id": "0d21101c-98b4-49ea-b04a-da68b5db96e8",
   "metadata": {
    "tags": []
   },
   "outputs": [
    {
     "data": {
      "text/plain": [
       "15511210043330985984000000"
      ]
     },
     "execution_count": 16,
     "metadata": {},
     "output_type": "execute_result"
    }
   ],
   "source": [
    "prod"
   ]
  },
  {
   "cell_type": "markdown",
   "id": "f1da520b-ad61-4956-b197-24e17a3c84cc",
   "metadata": {},
   "source": [
    "Q5. Write a python program to filter the numbers in a given list that are divisible by 2 and 3 using the filter function."
   ]
  },
  {
   "cell_type": "code",
   "execution_count": 17,
   "id": "b69cb4ce-8d6e-4e31-9072-66daf64ddc11",
   "metadata": {
    "tags": []
   },
   "outputs": [],
   "source": [
    "l6 = [2, 3, 6, 9, 27, 60, 90, 120, 55, 46]"
   ]
  },
  {
   "cell_type": "code",
   "execution_count": 18,
   "id": "08f69e7f-b70d-4ab4-86d3-4718cd2559cd",
   "metadata": {
    "tags": []
   },
   "outputs": [
    {
     "data": {
      "text/plain": [
       "[2, 3, 6, 9, 27, 60, 90, 120, 46]"
      ]
     },
     "execution_count": 18,
     "metadata": {},
     "output_type": "execute_result"
    }
   ],
   "source": [
    "list(filter(lambda x: x%2==0 or x%3==0, l6))"
   ]
  },
  {
   "cell_type": "markdown",
   "id": "44cf3f15-2913-4171-92fe-5d1f5ede95c0",
   "metadata": {},
   "source": [
    "Q6. Write a python program to find palindromes in the given list of strings using lambda and filter\n",
    "function.\n",
    "\n",
    "['python', 'php', 'aba', 'radar', 'level']"
   ]
  },
  {
   "cell_type": "code",
   "execution_count": 28,
   "id": "9085f667-cb2d-43a0-9022-0ac6b75dbc0c",
   "metadata": {
    "tags": []
   },
   "outputs": [],
   "source": [
    "l7 = ['python', 'php', 'aba', 'radar', 'level']"
   ]
  },
  {
   "cell_type": "code",
   "execution_count": 29,
   "id": "533b9568-51ec-4f8a-a32b-2bc7a5d842d9",
   "metadata": {
    "tags": []
   },
   "outputs": [
    {
     "data": {
      "text/plain": [
       "['php', 'aba', 'radar', 'level']"
      ]
     },
     "execution_count": 29,
     "metadata": {},
     "output_type": "execute_result"
    }
   ],
   "source": [
    "list(filter(lambda x: x == x[::-1], l7))"
   ]
  }
 ],
 "metadata": {
  "kernelspec": {
   "display_name": "Python 3 (ipykernel)",
   "language": "python",
   "name": "python3"
  },
  "language_info": {
   "codemirror_mode": {
    "name": "ipython",
    "version": 3
   },
   "file_extension": ".py",
   "mimetype": "text/x-python",
   "name": "python",
   "nbconvert_exporter": "python",
   "pygments_lexer": "ipython3",
   "version": "3.11.2"
  }
 },
 "nbformat": 4,
 "nbformat_minor": 5
}
