{
 "cells": [
  {
   "cell_type": "markdown",
   "id": "01edf428-b543-48e3-ae2c-fa7d61e4bcb9",
   "metadata": {},
   "source": [
    "Q1. Who developed python programming language?"
   ]
  },
  {
   "cell_type": "markdown",
   "id": "fbe65e21-baeb-4fb9-9700-ac5f3d780cb6",
   "metadata": {
    "tags": []
   },
   "source": [
    "It was developed by Guido Van Rossum."
   ]
  },
  {
   "cell_type": "markdown",
   "id": "39af7903-6067-4f65-971b-3cd43b80fc93",
   "metadata": {},
   "source": [
    "Q2. Which type of programming does python support?"
   ]
  },
  {
   "cell_type": "markdown",
   "id": "8d2c1b33-cff8-43b6-bfe2-eabc16387a66",
   "metadata": {},
   "source": [
    "1. Procedural Prorgamming\n",
    "2. Object-oriented Programming\n",
    "3. Functional Programming"
   ]
  },
  {
   "cell_type": "markdown",
   "id": "1b9e1802-cbe2-4302-b5d0-2911f6d76a0f",
   "metadata": {},
   "source": [
    "Q3. Is python case sensitive when dealing with identifiers?"
   ]
  },
  {
   "cell_type": "markdown",
   "id": "11e13934-baeb-4422-ba9c-82f98fc91508",
   "metadata": {},
   "source": [
    "Yes. Identifiers are distinguished by their case."
   ]
  },
  {
   "cell_type": "markdown",
   "id": "23b6c8c4-0d70-44ac-924c-0e2618be9d61",
   "metadata": {},
   "source": [
    "Q4. What is the correct extension of the python file?"
   ]
  },
  {
   "cell_type": "markdown",
   "id": "2673b447-c081-4e37-b95d-78a18a10cd2b",
   "metadata": {},
   "source": [
    "The extension for python file is .py\n",
    "while the extension for a python notebook is .ipynb"
   ]
  },
  {
   "cell_type": "markdown",
   "id": "c0b400d5-61f5-498e-a256-de12fe4a671a",
   "metadata": {},
   "source": [
    "Q5. Is python code compiled or interpreted?"
   ]
  },
  {
   "cell_type": "markdown",
   "id": "b8adff7f-9597-4530-85ea-56894e22335c",
   "metadata": {},
   "source": [
    "python is interpreted language"
   ]
  },
  {
   "cell_type": "markdown",
   "id": "fa3b05a3-000f-4d3d-b9fb-c2b283ebf235",
   "metadata": {},
   "source": [
    "Q6. Name a few blocks of code used to define in python language?"
   ]
  },
  {
   "cell_type": "markdown",
   "id": "b5e9ebe6-c1d5-4990-8849-b3b61e08b978",
   "metadata": {},
   "source": [
    "code blocks in python are created using indentations instead of curly braces."
   ]
  },
  {
   "cell_type": "markdown",
   "id": "363e1ea6-08ab-4574-8e19-40335f61aa64",
   "metadata": {},
   "source": [
    "Q7. state a character used to give single line comments in python?"
   ]
  },
  {
   "cell_type": "code",
   "execution_count": 2,
   "id": "1b797f29-9d4b-4f8a-b26c-ea200991422d",
   "metadata": {
    "tags": []
   },
   "outputs": [],
   "source": [
    "#"
   ]
  },
  {
   "cell_type": "markdown",
   "id": "8008c665-3a1e-4487-8996-ec77991d348a",
   "metadata": {},
   "source": [
    "Q8. what are the functions that can help us find the version of python we are currently working on?"
   ]
  },
  {
   "cell_type": "markdown",
   "id": "5312a35d-dc07-4f94-9979-eea777cad2d2",
   "metadata": {
    "tags": []
   },
   "source": [
    "1. sys module: "
   ]
  },
  {
   "cell_type": "code",
   "execution_count": 5,
   "id": "754fb98e-6c92-45b1-bff9-09b784dd83d3",
   "metadata": {
    "tags": []
   },
   "outputs": [
    {
     "name": "stdout",
     "output_type": "stream",
     "text": [
      "3.11.2 (tags/v3.11.2:878ead1, Feb  7 2023, 16:38:35) [MSC v.1934 64 bit (AMD64)]\n"
     ]
    }
   ],
   "source": [
    "import sys\n",
    "print(sys.version)"
   ]
  },
  {
   "cell_type": "code",
   "execution_count": 6,
   "id": "3cd3d54f-f579-4819-9493-1433cbbcec32",
   "metadata": {
    "tags": []
   },
   "outputs": [
    {
     "name": "stdout",
     "output_type": "stream",
     "text": [
      "sys.version_info(major=3, minor=11, micro=2, releaselevel='final', serial=0)\n"
     ]
    }
   ],
   "source": [
    "print(sys.version_info)"
   ]
  },
  {
   "cell_type": "markdown",
   "id": "e7ec3dc9-b792-4e07-aa5a-320cbd0567d1",
   "metadata": {},
   "source": [
    "2. platform module:"
   ]
  },
  {
   "cell_type": "code",
   "execution_count": 7,
   "id": "e9a60e11-f573-48b7-a7ea-2cc74d0003af",
   "metadata": {
    "tags": []
   },
   "outputs": [
    {
     "name": "stdout",
     "output_type": "stream",
     "text": [
      "3.11.2\n"
     ]
    }
   ],
   "source": [
    "import platform as pf\n",
    "print(pf.python_version())"
   ]
  },
  {
   "cell_type": "markdown",
   "id": "478991dc-5563-4287-93a0-dcf836dc1c7a",
   "metadata": {},
   "source": [
    "Q9. python supports the creation of anonymous functions at runtime, using a construct called __________?"
   ]
  },
  {
   "cell_type": "markdown",
   "id": "768252fa-f63b-4b01-b1e8-6b038cd6cbbb",
   "metadata": {},
   "source": [
    "lambda"
   ]
  },
  {
   "cell_type": "markdown",
   "id": "f84fd765-9199-4c9f-844d-3cf40a67bcdb",
   "metadata": {},
   "source": [
    "Q10. What does pip stand for in python?"
   ]
  },
  {
   "cell_type": "markdown",
   "id": "467d3281-e975-4db1-8f50-d9c61cdb9685",
   "metadata": {
    "tags": []
   },
   "source": [
    "python install packages"
   ]
  },
  {
   "cell_type": "markdown",
   "id": "a8aa347f-1f6b-41bd-8374-db4a8ccb00f4",
   "metadata": {},
   "source": [
    "Q11. mention a few in-built functions in python."
   ]
  },
  {
   "cell_type": "markdown",
   "id": "448c8556-9ff2-4ae8-b881-efcdd05fa90d",
   "metadata": {},
   "source": [
    "print(), type(), range(), len()"
   ]
  },
  {
   "cell_type": "markdown",
   "id": "07fa713f-d17a-48d6-8afd-04dbc6c9eea5",
   "metadata": {},
   "source": [
    "Q12. what is the maximum possible length of an identifier in python?"
   ]
  },
  {
   "cell_type": "markdown",
   "id": "1b62164c-0ba8-46b9-927c-c38fa7a406ba",
   "metadata": {},
   "source": [
    "no limit on max possible length of an identifier in python"
   ]
  },
  {
   "cell_type": "code",
   "execution_count": null,
   "id": "d65b1993-c226-432b-b3f7-0e2ed571531e",
   "metadata": {},
   "outputs": [],
   "source": []
  }
 ],
 "metadata": {
  "kernelspec": {
   "display_name": "Python 3 (ipykernel)",
   "language": "python",
   "name": "python3"
  },
  "language_info": {
   "codemirror_mode": {
    "name": "ipython",
    "version": 3
   },
   "file_extension": ".py",
   "mimetype": "text/x-python",
   "name": "python",
   "nbconvert_exporter": "python",
   "pygments_lexer": "ipython3",
   "version": "3.11.2"
  }
 },
 "nbformat": 4,
 "nbformat_minor": 5
}
