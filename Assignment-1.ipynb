{
 "cells": [
  {
   "cell_type": "markdown",
   "id": "9a8b74e0",
   "metadata": {},
   "source": [
    "# When to use a for loop and a while loop?"
   ]
  },
  {
   "cell_type": "markdown",
   "id": "93bb74a8",
   "metadata": {},
   "source": [
    "For loop is used when we need to loop through an iterable wherein the number iterations is fixed everytime we run the code"
   ]
  },
  {
   "cell_type": "code",
   "execution_count": 1,
   "id": "04777ad6",
   "metadata": {},
   "outputs": [
    {
     "name": "stdout",
     "output_type": "stream",
     "text": [
      "0\n",
      "1\n",
      "2\n",
      "3\n",
      "4\n",
      "5\n",
      "6\n",
      "7\n",
      "8\n",
      "9\n"
     ]
    }
   ],
   "source": [
    "for i in range(10):\n",
    "    print(i)"
   ]
  },
  {
   "cell_type": "markdown",
   "id": "b16a9ee4",
   "metadata": {},
   "source": [
    "while loop is useful in cases where the number of iterations is dynamic and keeps changing on every run"
   ]
  },
  {
   "cell_type": "code",
   "execution_count": 1,
   "id": "44d5ae6e",
   "metadata": {},
   "outputs": [
    {
     "name": "stdin",
     "output_type": "stream",
     "text": [
      "enter a number 15\n"
     ]
    },
    {
     "name": "stdout",
     "output_type": "stream",
     "text": [
      "0\n",
      "1\n",
      "2\n",
      "3\n",
      "4\n",
      "5\n",
      "6\n",
      "7\n",
      "8\n",
      "9\n",
      "10\n",
      "11\n",
      "12\n",
      "13\n",
      "14\n"
     ]
    }
   ],
   "source": [
    "n = int(input(\"enter a number\"))\n",
    "i=0\n",
    "while i<n:\n",
    "    print(i)\n",
    "    i+=1"
   ]
  },
  {
   "cell_type": "markdown",
   "id": "18694d10",
   "metadata": {},
   "source": [
    "# Write a python program to print the sum and product of the first 10 natural numbers using for and while loop."
   ]
  },
  {
   "cell_type": "code",
   "execution_count": 2,
   "id": "11447383",
   "metadata": {},
   "outputs": [
    {
     "name": "stdout",
     "output_type": "stream",
     "text": [
      "the sum is 55\n",
      "prod is 3628800\n"
     ]
    }
   ],
   "source": [
    "#Using for loop\n",
    "sum=0\n",
    "prod=1\n",
    "for i in range(1,11):\n",
    "    sum += i\n",
    "    prod *= i\n",
    "print(\"the sum is {}\".format(sum))\n",
    "print(\"prod is {}\".format(prod))"
   ]
  },
  {
   "cell_type": "code",
   "execution_count": 3,
   "id": "85dea129",
   "metadata": {},
   "outputs": [
    {
     "name": "stdout",
     "output_type": "stream",
     "text": [
      "the sum is 55\n",
      "the prod is 3628800\n"
     ]
    }
   ],
   "source": [
    "sum = 0\n",
    "prod = 1\n",
    "\n",
    "i=1\n",
    "\n",
    "while i<=10:\n",
    "    sum += i\n",
    "    prod *= i\n",
    "    i+=1\n",
    "print(\"the sum is {}\".format(sum))\n",
    "print(\"the prod is {}\".format(prod))"
   ]
  },
  {
   "cell_type": "markdown",
   "id": "54317575",
   "metadata": {},
   "source": [
    "create a python program to calculate electricity bill for a household\n",
    "The per-unit charges in rupees are as follows: For the first 100 units, the user will be charged Rs. 4.5 per unit, for the next 100 units, the user will be charged Rs. 6 per unit, and for the next 100 units, the user will be charged Rs. 10 per unit, After 300 units and above the user will be charged Rs. 20 per unit."
   ]
  },
  {
   "cell_type": "code",
   "execution_count": 4,
   "id": "03a3db1c",
   "metadata": {
    "tags": []
   },
   "outputs": [
    {
     "name": "stdin",
     "output_type": "stream",
     "text": [
      "enter the number of units:  115\n"
     ]
    },
    {
     "name": "stdout",
     "output_type": "stream",
     "text": [
      "the amount of 115 units is 540.0\n"
     ]
    }
   ],
   "source": [
    "units = int(input(\"enter the number of units: \"))\n",
    "amt = 0\n",
    "if units <= 100:\n",
    "    amt = 4.5*units\n",
    "\n",
    "elif units>100 and units<=200:\n",
    "    amt = 4.5*100 + 6*(units-100)\n",
    "\n",
    "elif units>200 and units<=300:\n",
    "    amt = 4.5*100 + 6*100 + 10*(units-200)\n",
    "\n",
    "elif units>300:\n",
    "    amt = 100*(4.5+6+10) + 20*(units-300)\n",
    "    \n",
    "print(\"the amount of {} units is {}\".format(units,amt))"
   ]
  },
  {
   "cell_type": "markdown",
   "id": "73c9be74-397c-40e5-9ca3-6b774844ac0c",
   "metadata": {},
   "source": [
    "Create a list of numbers from 1 to 100. Use for loop and while loop to calculate the cube of each number and if the cube of that number is divisible by 4 or 5 then append that number in a list and print that list."
   ]
  },
  {
   "cell_type": "code",
   "execution_count": 6,
   "id": "5d4d3ab0-eee3-4347-a371-34cabefe66ae",
   "metadata": {
    "tags": []
   },
   "outputs": [],
   "source": [
    "list1 = []\n",
    "\n",
    "#for square of numbers\n",
    "for i in range(1,11):\n",
    "    if i**2%4==0 or i**2%5==0:\n",
    "        list1.append(i)"
   ]
  },
  {
   "cell_type": "code",
   "execution_count": null,
   "id": "b45784b5-7cce-484f-ae6e-fdea6fdf9b63",
   "metadata": {
    "tags": []
   },
   "outputs": [],
   "source": [
    "list1"
   ]
  },
  {
   "cell_type": "code",
   "execution_count": 7,
   "id": "6430ba10-3bc9-46ba-a279-6df5eac4b22e",
   "metadata": {
    "tags": []
   },
   "outputs": [],
   "source": [
    "#for cube of numbers\n",
    "i=1\n",
    "while i<=100:\n",
    "    if i**3%4==0 or i**3%5==0:\n",
    "        list1.append(i)\n",
    "    i+=1"
   ]
  },
  {
   "cell_type": "code",
   "execution_count": 8,
   "id": "ea210b5d-e8b4-4be7-a24d-99d656236fe7",
   "metadata": {
    "tags": []
   },
   "outputs": [
    {
     "data": {
      "text/plain": [
       "[2,\n",
       " 4,\n",
       " 5,\n",
       " 6,\n",
       " 8,\n",
       " 10,\n",
       " 2,\n",
       " 4,\n",
       " 5,\n",
       " 6,\n",
       " 8,\n",
       " 10,\n",
       " 12,\n",
       " 14,\n",
       " 15,\n",
       " 16,\n",
       " 18,\n",
       " 20,\n",
       " 22,\n",
       " 24,\n",
       " 25,\n",
       " 26,\n",
       " 28,\n",
       " 30,\n",
       " 32,\n",
       " 34,\n",
       " 35,\n",
       " 36,\n",
       " 38,\n",
       " 40,\n",
       " 42,\n",
       " 44,\n",
       " 45,\n",
       " 46,\n",
       " 48,\n",
       " 50,\n",
       " 52,\n",
       " 54,\n",
       " 55,\n",
       " 56,\n",
       " 58,\n",
       " 60,\n",
       " 62,\n",
       " 64,\n",
       " 65,\n",
       " 66,\n",
       " 68,\n",
       " 70,\n",
       " 72,\n",
       " 74,\n",
       " 75,\n",
       " 76,\n",
       " 78,\n",
       " 80,\n",
       " 82,\n",
       " 84,\n",
       " 85,\n",
       " 86,\n",
       " 88,\n",
       " 90,\n",
       " 92,\n",
       " 94,\n",
       " 95,\n",
       " 96,\n",
       " 98,\n",
       " 100]"
      ]
     },
     "execution_count": 8,
     "metadata": {},
     "output_type": "execute_result"
    }
   ],
   "source": [
    "list1"
   ]
  },
  {
   "cell_type": "markdown",
   "id": "01c4b242-6b7d-46ea-a70a-8bb7d649ae19",
   "metadata": {},
   "source": [
    "Write a program to filter count vowels in the below-given string. string = \"I want to become a data scientist\""
   ]
  },
  {
   "cell_type": "code",
   "execution_count": 10,
   "id": "1990fdf0-8bf2-4820-80ff-8f6fa7338569",
   "metadata": {
    "tags": []
   },
   "outputs": [
    {
     "data": {
      "text/plain": [
       "11"
      ]
     },
     "execution_count": 10,
     "metadata": {},
     "output_type": "execute_result"
    }
   ],
   "source": [
    "s = \"I want to become data scientist\"\n",
    "count=0\n",
    "for x in s.lower():\n",
    "    if x in ['a','e','i','o','u']:\n",
    "         count+=1\n",
    "count"
   ]
  },
  {
   "cell_type": "code",
   "execution_count": null,
   "id": "c8cf7daa-403e-471c-ad47-0ca6aad645de",
   "metadata": {},
   "outputs": [],
   "source": []
  }
 ],
 "metadata": {
  "kernelspec": {
   "display_name": "Python 3 (ipykernel)",
   "language": "python",
   "name": "python3"
  },
  "language_info": {
   "codemirror_mode": {
    "name": "ipython",
    "version": 3
   },
   "file_extension": ".py",
   "mimetype": "text/x-python",
   "name": "python",
   "nbconvert_exporter": "python",
   "pygments_lexer": "ipython3",
   "version": "3.11.2"
  }
 },
 "nbformat": 4,
 "nbformat_minor": 5
}
