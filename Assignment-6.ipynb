{
 "cells": [
  {
   "cell_type": "markdown",
   "id": "c5d75b1f-72d2-47b0-a670-6b10c6138e93",
   "metadata": {},
   "source": [
    "Q1. Write a program to accept percentage from the user and display the grade according to the following criteria:\n",
    "\n",
    "#>90 = A\n",
    "\n",
    "#>80 and <=90 = B\n",
    "\n",
    "#>=60 and <=80 = c\n",
    "\n",
    "#<60 = D"
   ]
  },
  {
   "cell_type": "code",
   "execution_count": 1,
   "id": "fa2711fc-4003-45c2-8625-8ad57e90116d",
   "metadata": {
    "tags": []
   },
   "outputs": [
    {
     "name": "stdin",
     "output_type": "stream",
     "text": [
      "enter your percentage 69\n"
     ]
    },
    {
     "name": "stdout",
     "output_type": "stream",
     "text": [
      "the grade is C\n"
     ]
    }
   ],
   "source": [
    "per = int(input(\"enter your percentage\"))\n",
    "grade = ''\n",
    "\n",
    "if per>90:\n",
    "    grade = 'A'\n",
    "elif per>80 and per<=90:\n",
    "    grade = 'B'\n",
    "elif per >= 60 and per <= 80:\n",
    "    grade = 'C'\n",
    "elif per<60:\n",
    "    grade = 'D'\n",
    "\n",
    "print(\"the grade is \" + grade)"
   ]
  },
  {
   "cell_type": "markdown",
   "id": "89fd6cc2-e58f-442d-85a9-f558261be5ee",
   "metadata": {},
   "source": [
    "Q2. Write a program to accept the cost price of a bike and display th road tax according to the following criteria\n",
    "\n",
    "Tax = 15% if cost price  > 1,00,000\n",
    "\n",
    "Tax = 10% if 50,000 < cost price <= 1,00,000\n",
    "\n",
    "Tax = 5% if cost price <= 50,000"
   ]
  },
  {
   "cell_type": "code",
   "execution_count": 3,
   "id": "2a23beb0-c9f4-497b-930c-c2283a776504",
   "metadata": {
    "tags": []
   },
   "outputs": [
    {
     "name": "stdin",
     "output_type": "stream",
     "text": [
      "enter the cost price of your bike 75000\n"
     ]
    },
    {
     "name": "stdout",
     "output_type": "stream",
     "text": [
      "road tax to be paid = 7500.0\n"
     ]
    }
   ],
   "source": [
    "cp = int(input(\"enter the cost price of your bike\"))\n",
    "tax = 0\n",
    "\n",
    "if cp > 100000:\n",
    "    tax = 15\n",
    "elif cp>50000 and cp<=100000:\n",
    "    tax = 10\n",
    "elif cp <= 50000:\n",
    "    tax = 5\n",
    "else:\n",
    "    print(\"pleas enter a valid cost price\")\n",
    "    quit()\n",
    "\n",
    "print(\"road tax to be paid = \" + str(cp*tax/100))"
   ]
  },
  {
   "cell_type": "markdown",
   "id": "30177eea-56e9-46bf-aed7-a4a3c88bb9a3",
   "metadata": {},
   "source": [
    "Q3. accept any city from the user and display monuments of that city\n",
    "\n",
    "Dehli = Red fort\n",
    "\n",
    "Agra = Taj Mahal\n",
    "\n",
    "Jaipur = Jal Mahal\n"
   ]
  },
  {
   "cell_type": "code",
   "execution_count": 5,
   "id": "639b6d28-eea1-442e-a696-6988d6e68d47",
   "metadata": {
    "tags": []
   },
   "outputs": [
    {
     "name": "stdin",
     "output_type": "stream",
     "text": [
      "enter the city:  Delhi\n"
     ]
    },
    {
     "name": "stdout",
     "output_type": "stream",
     "text": [
      "Red fort is a monument in Delhi\n"
     ]
    }
   ],
   "source": [
    "city = input(\"enter the city: \")\n",
    "\n",
    "cityMonuments = {'delhi' : 'Red fort', 'agra' : 'Taj Mahal', 'jaipur' : 'Jal Mahal'}\n",
    "\n",
    "print(cityMonuments[city.lower()] + \" is a monument in \" + city)"
   ]
  },
  {
   "cell_type": "markdown",
   "id": "3cc00d4b-758d-436a-b10c-e7242d06a6ef",
   "metadata": {},
   "source": [
    "Q4. check how many times a number can be divided by 3 before it is less than or equal to 10"
   ]
  },
  {
   "cell_type": "code",
   "execution_count": 6,
   "id": "b6b6a7f5-bece-4980-a728-5c024c6d92c1",
   "metadata": {
    "tags": []
   },
   "outputs": [
    {
     "name": "stdin",
     "output_type": "stream",
     "text": [
      "enter a number:  39\n"
     ]
    },
    {
     "name": "stdout",
     "output_type": "stream",
     "text": [
      "the number of times  13.0  is divisible by 3 is  1\n"
     ]
    }
   ],
   "source": [
    "num = int(input(\"enter a number: \"))\n",
    "count=0\n",
    "\n",
    "while num%3==0 and num>10:\n",
    "    count+=1\n",
    "    num=num/3\n",
    "\n",
    "print(\"the number of times \", num, \" is divisible by 3 is \", count)"
   ]
  },
  {
   "cell_type": "markdown",
   "id": "f3b414d7-6a67-4e0a-ab48-9c72f6f63090",
   "metadata": {},
   "source": [
    "Q5. use nested while loops to print 3 different patterns"
   ]
  },
  {
   "cell_type": "code",
   "execution_count": 2,
   "id": "2309c937-3ba6-4bad-bb22-4788d9ee096d",
   "metadata": {
    "tags": []
   },
   "outputs": [
    {
     "name": "stdout",
     "output_type": "stream",
     "text": [
      "* * * * * * * * * * \n",
      "\n",
      "* * * * * * * * * \n",
      "\n",
      "* * * * * * * * \n",
      "\n",
      "* * * * * * * \n",
      "\n",
      "* * * * * * \n",
      "\n",
      "* * * * * \n",
      "\n",
      "* * * * \n",
      "\n",
      "* * * \n",
      "\n",
      "* * \n",
      "\n",
      "* \n",
      "\n"
     ]
    }
   ],
   "source": [
    "count1=10\n",
    "count2=count1\n",
    "\n",
    "while count1:\n",
    "    count2 = count1\n",
    "    while count2:\n",
    "        print('*', end=' ')\n",
    "        count2 = count2-1\n",
    "    print('\\n')\n",
    "    count1=count1-1"
   ]
  },
  {
   "cell_type": "markdown",
   "id": "26255b25-adac-4d37-a336-dd8b1396fea2",
   "metadata": {},
   "source": [
    "Q7. reverse a while loop to display numbers 10 to 1"
   ]
  },
  {
   "cell_type": "code",
   "execution_count": 3,
   "id": "b9282396-f6a5-4353-a964-e2fe99508106",
   "metadata": {
    "tags": []
   },
   "outputs": [
    {
     "name": "stdout",
     "output_type": "stream",
     "text": [
      "10\n",
      "9\n",
      "8\n",
      "7\n",
      "6\n",
      "5\n",
      "4\n",
      "3\n",
      "2\n",
      "1\n"
     ]
    }
   ],
   "source": [
    "num = 10\n",
    "\n",
    "while num:\n",
    "    print(num)\n",
    "    num-=1"
   ]
  },
  {
   "cell_type": "code",
   "execution_count": null,
   "id": "e6c5d0f8-bc02-4899-a372-03dea007d296",
   "metadata": {},
   "outputs": [],
   "source": []
  }
 ],
 "metadata": {
  "kernelspec": {
   "display_name": "Python 3 (ipykernel)",
   "language": "python",
   "name": "python3"
  },
  "language_info": {
   "codemirror_mode": {
    "name": "ipython",
    "version": 3
   },
   "file_extension": ".py",
   "mimetype": "text/x-python",
   "name": "python",
   "nbconvert_exporter": "python",
   "pygments_lexer": "ipython3",
   "version": "3.11.2"
  }
 },
 "nbformat": 4,
 "nbformat_minor": 5
}
