{
 "cells": [
  {
   "cell_type": "markdown",
   "id": "0126fdea-e0e5-458f-b70b-f84e67efde32",
   "metadata": {},
   "source": [
    "Q1. Create a function which will take a list as an argument and return the product of all the numbers\n",
    "after creating a flat list.\n",
    "Use the below-given list as an argument for your function.\n",
    "\n",
    "list1 = [1,2,3,4, [44,55,66, True], False, (34,56,78,89,34), {1,2,3,3,2,1}, {1:34, \"key2\": [55, 67, 78, 89], 4: (45,\n",
    "22, 61, 34)}, [56, 'data science'], 'Machine Learning']"
   ]
  },
  {
   "cell_type": "code",
   "execution_count": 15,
   "id": "af30ecb8-60ac-44ea-83a3-53e76e97be5a",
   "metadata": {
    "tags": []
   },
   "outputs": [],
   "source": [
    "def extractNumericValues(dataList, flatList):\n",
    "    for i in dataList:\n",
    "        if type(i) == int or type(i) == float:\n",
    "            flatList.append(i)\n",
    "        elif type(i) == list or type(i) == tuple or type(i) == set:\n",
    "            extractNumericValues(i,flatList)\n",
    "        elif type(i) == dict:\n",
    "            extractNumericValues(i.keys(),flatList)\n",
    "            extractNumericValues(i.values(),flatList)\n",
    "        \n",
    "    return flatList\n",
    "    "
   ]
  },
  {
   "cell_type": "code",
   "execution_count": 27,
   "id": "a7116009-c963-4cc4-aa34-49b120a14777",
   "metadata": {
    "tags": []
   },
   "outputs": [],
   "source": [
    "from functools import reduce"
   ]
  },
  {
   "cell_type": "code",
   "execution_count": null,
   "id": "6394e103-e10e-497e-ae3c-f4ee05384563",
   "metadata": {},
   "outputs": [],
   "source": [
    "def multiplyAllNums(dataList):\n",
    "    emptyList=[]\n",
    "    listOfNums = list(extractNumericValues(dataList,emptyList))\n",
    "    \n",
    "    num = reduce(lambda x,y:x*y, listOfNums)\n",
    "    \n",
    "    return num"
   ]
  },
  {
   "cell_type": "code",
   "execution_count": 30,
   "id": "a4ac9946-2b65-4bc2-bee1-17dbb514e6a7",
   "metadata": {
    "tags": []
   },
   "outputs": [],
   "source": [
    "list1 = [1,2,3,4, [44,55,66, True], False, (34,56,78,89,34), {1,2,3,3,2,1}, {1:34, \"key2\": [55, 67, 78, 89], 4: (45,\n",
    "22, 61, 34)}, [56, 'data science'], 'Machine Learning']"
   ]
  },
  {
   "cell_type": "code",
   "execution_count": 31,
   "id": "ced0c689-c7f1-48ea-a8dc-85369f4c7a23",
   "metadata": {
    "tags": []
   },
   "outputs": [],
   "source": [
    "product = multiplyAllNums(list1)"
   ]
  },
  {
   "cell_type": "code",
   "execution_count": 32,
   "id": "34308430-e292-4715-89a9-cd594d083725",
   "metadata": {
    "tags": []
   },
   "outputs": [
    {
     "data": {
      "text/plain": [
       "4134711838987085478833841242112000"
      ]
     },
     "execution_count": 32,
     "metadata": {},
     "output_type": "execute_result"
    }
   ],
   "source": [
    "product"
   ]
  },
  {
   "cell_type": "markdown",
   "id": "327018c5-9bab-4981-990b-3d7649f46eaa",
   "metadata": {},
   "source": [
    "Q2. Write a python program for encrypting a message sent to you by your friend. The logic of encryption\n",
    "should be such that, for a the output should be z. For b, the output should be y. For c, the output should\n",
    "be x respectively. Also, the whitespace should be replaced with a dollar sign. Keep the punctuation\n",
    "marks unchanged.\n",
    "\n",
    "Input Sentence: I want to become a Data Scientist.\n",
    "\n",
    "Encrypt the above input sentence using the program you just created.\n",
    "\n",
    "Note: Convert the given input sentence into lowercase before encrypting. The final output should be\n",
    "lowercase."
   ]
  },
  {
   "cell_type": "code",
   "execution_count": 66,
   "id": "3c749554-7384-44a2-8ce1-f335dbdd29ea",
   "metadata": {},
   "outputs": [],
   "source": [
    "abcd = \"abcdefghijklmnopqrstuvwxyz\""
   ]
  },
  {
   "cell_type": "code",
   "execution_count": 77,
   "id": "dee943e4-7301-468d-865e-0d075498f803",
   "metadata": {
    "tags": []
   },
   "outputs": [],
   "source": [
    "alp = list(abcd)"
   ]
  },
  {
   "cell_type": "code",
   "execution_count": 86,
   "id": "e93c9285-d8ca-4e02-8ea9-666ae257bfe3",
   "metadata": {
    "tags": []
   },
   "outputs": [],
   "source": [
    "alphaDict = {' ': '$'}\n",
    "for i in range(0,26):\n",
    "    alphaDict.update({alp[i]:alp[25-i]})"
   ]
  },
  {
   "cell_type": "code",
   "execution_count": 87,
   "id": "3d9fdbbe-6c32-4173-a858-7e183d4221ef",
   "metadata": {
    "tags": []
   },
   "outputs": [],
   "source": [
    "def returnChar(ch):\n",
    "    return alphaDict[ch]"
   ]
  },
  {
   "cell_type": "code",
   "execution_count": 100,
   "id": "46c5b0a2-44ff-4500-b263-37d460a54938",
   "metadata": {
    "tags": []
   },
   "outputs": [],
   "source": [
    "def encrypt(message):\n",
    "    n = len(message)\n",
    "    l=[]\n",
    "    for i in range(n):\n",
    "        ch = returnChar(message[i])\n",
    "        l.append(ch)\n",
    "    temp = ''\n",
    "    for i in range(n):\n",
    "        temp += l[i]\n",
    "    return temp"
   ]
  },
  {
   "cell_type": "code",
   "execution_count": 101,
   "id": "59c75927-49d0-4883-9d90-ab39fe9867ba",
   "metadata": {
    "tags": []
   },
   "outputs": [],
   "source": [
    "inputMessage = \"I want to become a Data Scientist\".lower()"
   ]
  },
  {
   "cell_type": "code",
   "execution_count": 102,
   "id": "7ed5b45f-5215-4707-9311-67806a265401",
   "metadata": {
    "tags": []
   },
   "outputs": [],
   "source": [
    "enMessage = encrypt(inputMessage)"
   ]
  },
  {
   "cell_type": "code",
   "execution_count": 103,
   "id": "9a950b5b-852c-43c0-ac41-3451c60a69b9",
   "metadata": {
    "tags": []
   },
   "outputs": [
    {
     "data": {
      "text/plain": [
       "'r$dzmg$gl$yvxlnv$z$wzgz$hxrvmgrhg'"
      ]
     },
     "execution_count": 103,
     "metadata": {},
     "output_type": "execute_result"
    }
   ],
   "source": [
    "enMessage"
   ]
  },
  {
   "cell_type": "code",
   "execution_count": null,
   "id": "bf971948-2e37-477b-9d1a-c6c8219f806c",
   "metadata": {},
   "outputs": [],
   "source": []
  }
 ],
 "metadata": {
  "kernelspec": {
   "display_name": "Python 3 (ipykernel)",
   "language": "python",
   "name": "python3"
  },
  "language_info": {
   "codemirror_mode": {
    "name": "ipython",
    "version": 3
   },
   "file_extension": ".py",
   "mimetype": "text/x-python",
   "name": "python",
   "nbconvert_exporter": "python",
   "pygments_lexer": "ipython3",
   "version": "3.11.2"
  }
 },
 "nbformat": 4,
 "nbformat_minor": 5
}
