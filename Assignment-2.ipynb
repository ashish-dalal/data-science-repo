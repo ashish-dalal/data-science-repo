{
 "cells": [
  {
   "cell_type": "markdown",
   "id": "1e0b3691-8a9f-4d52-ad2e-e1e3cd405751",
   "metadata": {},
   "source": [
    "Q. Which keyword is used to create a function? Create a function to return a list of odd numbers in the range of 1 to 25."
   ]
  },
  {
   "cell_type": "markdown",
   "id": "00fa4384-fb16-4f27-87bb-ef59129b2056",
   "metadata": {},
   "source": [
    "==> 'def' keyword is used in python while declaring a function"
   ]
  },
  {
   "cell_type": "code",
   "execution_count": 1,
   "id": "5c1c08e4-47db-4cce-8fd9-7476f571375f",
   "metadata": {
    "tags": []
   },
   "outputs": [],
   "source": [
    "#function to return list of odd numbers\n",
    "def oddNum(n):\n",
    "    l=list()\n",
    "    for i in range(1,n+1):\n",
    "        if i%2!=0:\n",
    "            l.append(i)\n",
    "    return l"
   ]
  },
  {
   "cell_type": "code",
   "execution_count": 2,
   "id": "d2e17151-49dd-4868-9579-98548ed34328",
   "metadata": {
    "tags": []
   },
   "outputs": [],
   "source": [
    "l1 = oddNum(25)"
   ]
  },
  {
   "cell_type": "code",
   "execution_count": 3,
   "id": "81fb81f2-7387-4b5d-8075-ee5c0ebff559",
   "metadata": {
    "tags": []
   },
   "outputs": [
    {
     "data": {
      "text/plain": [
       "[1, 3, 5, 7, 9, 11, 13, 15, 17, 19, 21, 23, 25]"
      ]
     },
     "execution_count": 3,
     "metadata": {},
     "output_type": "execute_result"
    }
   ],
   "source": [
    "l1"
   ]
  },
  {
   "cell_type": "markdown",
   "id": "45f70d0c-f1ac-4f5f-8a7c-86e20bba04b6",
   "metadata": {},
   "source": [
    "Q. Why *args and **kwargs is used in some functions? Create a function each for *args and **kwargs to demonstrate their use."
   ]
  },
  {
   "cell_type": "markdown",
   "id": "21966c4f-d0a9-484f-91c3-02a7c8684437",
   "metadata": {},
   "source": [
    "==> Python functions support 5 kind of arguments:-\n",
    "1. Simple Arguments- pass values as simple arguments to the function. eg. oddNum(15)\n",
    "\n",
    "2. Arbitrary arguments- if number of arguments to be passed to the function is not fixed we make use of arbitrary argument type. Here, the arguments are passed as a tuple to the function. *args is the way to declare arbitrary arguments during the function definition.\n",
    "\n",
    "3. keyword arguments- arguments are passed as key=value pair to the function. In this manner, the order of arguments does not matter eg. name(fname='Ashish', lname='Dalal')\n",
    "\n",
    "4. Arbitrary keyword arguments- when the number of keyword arguments to be passed is not fixed we use arbitrary keyword arguments. the key=value pair is passed as dictionary to the function. to declare arbitrary keyword argument during function definition we use the syntax **kwargs\n",
    "\n",
    "5. Default keyword arguments- keyword argument as a default value which is assigned during the function defintnion in case no value is provided during function call."
   ]
  },
  {
   "cell_type": "code",
   "execution_count": 6,
   "id": "257b6e0a-a461-4a3a-b674-e3962decd465",
   "metadata": {
    "tags": []
   },
   "outputs": [],
   "source": [
    "#*args\n",
    "\n",
    "def courses(*code):\n",
    "    n = len(code)\n",
    "    print(\"the number of courses for this semester is \" + str(n))\n",
    "    print(\"and the courses are: \")\n",
    "    for i in code:\n",
    "        print(i)"
   ]
  },
  {
   "cell_type": "code",
   "execution_count": 5,
   "id": "995391b2-a89e-4fe5-8897-99770f200d4e",
   "metadata": {
    "tags": []
   },
   "outputs": [
    {
     "name": "stdout",
     "output_type": "stream",
     "text": [
      "the number of courses for this semester is 4\n",
      "and the courses are: \n",
      "PHY-102\n",
      "CY-101\n",
      "MA-102\n",
      "CSO-101\n"
     ]
    }
   ],
   "source": [
    "courses('PHY-102', 'CY-101', 'MA-102', 'CSO-101')"
   ]
  },
  {
   "cell_type": "code",
   "execution_count": 7,
   "id": "7c76952e-d417-446c-984b-56f0445ed2bd",
   "metadata": {
    "tags": []
   },
   "outputs": [],
   "source": [
    "# **kwargs\n",
    "\n",
    "def course_grade(**grade):\n",
    "    if 'A' in grade.values() or 'A-' in grade.values():\n",
    "        print(\"Great work!\")\n",
    "    else:\n",
    "        print(\"there is room for improvement\")"
   ]
  },
  {
   "cell_type": "code",
   "execution_count": 8,
   "id": "5d070ae3-52c1-408e-8479-d9db74bb6a9b",
   "metadata": {
    "tags": []
   },
   "outputs": [
    {
     "name": "stdout",
     "output_type": "stream",
     "text": [
      "Great work!\n"
     ]
    }
   ],
   "source": [
    "course_grade(CSO='A-', PHY='B', MA='A-', CY='A-')"
   ]
  },
  {
   "cell_type": "markdown",
   "id": "3fc874f4-aa08-4a88-be47-37c95bc7f8f0",
   "metadata": {},
   "source": [
    "Q. What is an iterator in python? Name the method used to initialise the iterator object and the method used for iteration. Use these methods to print the first five elements of the given list [2, 4, 6, 8, 10, 12, 14, 16, 18, 20]."
   ]
  },
  {
   "cell_type": "markdown",
   "id": "2f71ad07-97c1-41b5-944b-bbbfe28ee599",
   "metadata": {},
   "source": [
    "==> An itertor is an object, derived from an iterable, which is used to loop through the sequenced values present in the interable. \n",
    "==>iter() method is used to initialise the iterator object and next() method is used to jump to the subsequent value."
   ]
  },
  {
   "cell_type": "code",
   "execution_count": 10,
   "id": "4a83c4e0-45c1-424a-80cc-9c64ea9f450e",
   "metadata": {
    "tags": []
   },
   "outputs": [
    {
     "name": "stdout",
     "output_type": "stream",
     "text": [
      "2\n",
      "4\n",
      "6\n",
      "8\n",
      "10\n"
     ]
    }
   ],
   "source": [
    "list2 = [2,4,6,8,10,12,14,16,18,20]\n",
    "iterator1 = iter(list2)\n",
    "\n",
    "for i in range(5):\n",
    "    print(next(iterator1))"
   ]
  },
  {
   "cell_type": "markdown",
   "id": "3e200016-15ef-42bd-a461-2ff7a0441cb1",
   "metadata": {},
   "source": [
    "Q. What is a generator function in python? Why yield keyword is used? Give an example of a generator function."
   ]
  },
  {
   "cell_type": "markdown",
   "id": "1704c3fd-c565-4fa0-839d-98a959231c8e",
   "metadata": {},
   "source": [
    "==> Generator function is a function that returns an iterator that provides a sequence of values when iterated over. They are useful when we want to produce a large sequence of values but don't want to store them in memory all at once.\n",
    "\n",
    "==> Yield keyword return the value present after yield and suspends the rest of function block. This suspended fucntion block is continued in during the next function iteration."
   ]
  },
  {
   "cell_type": "code",
   "execution_count": 2,
   "id": "f680f3af-93b7-4c16-827f-e189ee70f40f",
   "metadata": {},
   "outputs": [],
   "source": [
    "#generator function for even numbers\n",
    "def even(n):\n",
    "    a=0\n",
    "    for i in range(n):\n",
    "        yield a\n",
    "        a += 2\n",
    "    "
   ]
  },
  {
   "cell_type": "code",
   "execution_count": 3,
   "id": "cfbd02f9-f6aa-402e-a1b5-1285283f30b5",
   "metadata": {
    "tags": []
   },
   "outputs": [
    {
     "name": "stdout",
     "output_type": "stream",
     "text": [
      "0\n",
      "2\n",
      "4\n",
      "6\n",
      "8\n",
      "10\n",
      "12\n",
      "14\n",
      "16\n",
      "18\n",
      "20\n",
      "22\n",
      "24\n",
      "26\n",
      "28\n",
      "30\n",
      "32\n",
      "34\n",
      "36\n",
      "38\n"
     ]
    }
   ],
   "source": [
    "for i in even(20):\n",
    "    print(i)"
   ]
  },
  {
   "cell_type": "markdown",
   "id": "22f14e30-0bd7-42ba-bf98-57ae4478beaa",
   "metadata": {},
   "source": [
    "Q5. Create a generator function for prime numbers less than 1000. Use the next() method to print the\n",
    "first 20 prime numbers."
   ]
  },
  {
   "cell_type": "code",
   "execution_count": 4,
   "id": "8502473f-566d-456e-a6ca-1690c9ba140b",
   "metadata": {
    "tags": []
   },
   "outputs": [],
   "source": [
    "def prime():\n",
    "    for i in range (2,1000):\n",
    "        isPrime = True\n",
    "        for j in range (2,i):\n",
    "            if i%j == 0:\n",
    "                isPrime = False\n",
    "                break\n",
    "        if isPrime:\n",
    "            yield i"
   ]
  },
  {
   "cell_type": "code",
   "execution_count": 6,
   "id": "bf8ab8cf-3e4e-4eb6-8dd7-ed9b681385b7",
   "metadata": {
    "tags": []
   },
   "outputs": [],
   "source": [
    "s = prime()"
   ]
  },
  {
   "cell_type": "code",
   "execution_count": 8,
   "id": "6dfecdae-770f-45ea-a515-f6c0fa764834",
   "metadata": {
    "tags": []
   },
   "outputs": [
    {
     "name": "stdout",
     "output_type": "stream",
     "text": [
      "2\n",
      "3\n",
      "5\n",
      "7\n",
      "11\n",
      "13\n",
      "17\n",
      "19\n",
      "23\n",
      "29\n",
      "31\n",
      "37\n",
      "41\n",
      "43\n",
      "47\n",
      "53\n",
      "59\n",
      "61\n",
      "67\n",
      "71\n"
     ]
    }
   ],
   "source": [
    "for i in range(20):\n",
    "    print(next(s))"
   ]
  },
  {
   "cell_type": "markdown",
   "id": "8d09b14c-0286-4bc7-97c0-b6a6bd43ee3a",
   "metadata": {},
   "source": [
    "Q. Write a python program to print the first 10 Fibonacci numbers using a while loop."
   ]
  },
  {
   "cell_type": "code",
   "execution_count": 9,
   "id": "efb00ffe-63e4-4b80-90a7-09fc3f9bfdd2",
   "metadata": {
    "tags": []
   },
   "outputs": [
    {
     "name": "stdout",
     "output_type": "stream",
     "text": [
      "0\n",
      "1\n",
      "1\n",
      "2\n",
      "3\n",
      "5\n",
      "8\n",
      "13\n",
      "21\n",
      "34\n"
     ]
    }
   ],
   "source": [
    "a,b = 0,1\n",
    "i=0\n",
    "while i<10:\n",
    "    print(a)\n",
    "    a,b = b,a+b\n",
    "    i+=1"
   ]
  },
  {
   "cell_type": "markdown",
   "id": "4b4b0f84-83c8-4831-a0b8-1bf0846c99d4",
   "metadata": {},
   "source": [
    "Q. Write a List Comprehension to iterate through the given string: ‘python’. Expected output: ['p', 'y', 't', 'h', 'o', 'n']"
   ]
  },
  {
   "cell_type": "code",
   "execution_count": 10,
   "id": "a5dcdd70-2794-4f19-b8d9-051c576e38d5",
   "metadata": {
    "tags": []
   },
   "outputs": [],
   "source": [
    "s2 = 'python'"
   ]
  },
  {
   "cell_type": "code",
   "execution_count": 12,
   "id": "b0c0ae8e-0161-4937-ac48-dd4057f56f2a",
   "metadata": {
    "tags": []
   },
   "outputs": [],
   "source": [
    "l2 = [i for i in s2]"
   ]
  },
  {
   "cell_type": "code",
   "execution_count": 13,
   "id": "d476fd63-f4f5-4503-8a89-f34692868775",
   "metadata": {
    "tags": []
   },
   "outputs": [
    {
     "data": {
      "text/plain": [
       "['p', 'y', 't', 'h', 'o', 'n']"
      ]
     },
     "execution_count": 13,
     "metadata": {},
     "output_type": "execute_result"
    }
   ],
   "source": [
    "l2"
   ]
  },
  {
   "cell_type": "markdown",
   "id": "d6fd08f8-2e44-448d-85d1-e82084a74b0b",
   "metadata": {
    "tags": []
   },
   "source": [
    "Q. Write a python program to check whether a given number is Palindrome or not using a while loop."
   ]
  },
  {
   "cell_type": "code",
   "execution_count": 21,
   "id": "f9ed75b6-b700-4b44-90b6-93f005b30ba9",
   "metadata": {
    "tags": []
   },
   "outputs": [
    {
     "name": "stdin",
     "output_type": "stream",
     "text": [
      "enter an integer:  1632\n"
     ]
    },
    {
     "name": "stdout",
     "output_type": "stream",
     "text": [
      "the number is not a palindrome\n"
     ]
    }
   ],
   "source": [
    "import math as m\n",
    "\n",
    "num = int(input('enter an integer: '))\n",
    "temp = num\n",
    "r = 0\n",
    "revNum = 0\n",
    "while temp:\n",
    "    r = temp%10\n",
    "    revNum = revNum*10 + r\n",
    "    temp = m.floor(temp/10)\n",
    "\n",
    "if num == revNum:\n",
    "    print('the number is a palindrome')\n",
    "else:\n",
    "    print('the number is not a palindrome')"
   ]
  },
  {
   "cell_type": "markdown",
   "id": "fd08af99-698a-4878-9553-b45e289e5f47",
   "metadata": {},
   "source": [
    "Q9. Write a code to print odd numbers from 1 to 100 using list comprehension. note: Use a list comprehension to create a list from 1 to 100 and use another List comprehension to filter out odd numbers."
   ]
  },
  {
   "cell_type": "code",
   "execution_count": 25,
   "id": "197b875d-21df-448a-8b8f-f8309f041693",
   "metadata": {
    "tags": []
   },
   "outputs": [],
   "source": [
    "numList = [i for i in range(1,100)]"
   ]
  },
  {
   "cell_type": "code",
   "execution_count": 26,
   "id": "69ae3245-cde5-4691-9b83-cd11735b7c2e",
   "metadata": {
    "tags": []
   },
   "outputs": [],
   "source": [
    "oddList = [i for i in numList if i%2!=0]"
   ]
  }
 ],
 "metadata": {
  "kernelspec": {
   "display_name": "Python 3 (ipykernel)",
   "language": "python",
   "name": "python3"
  },
  "language_info": {
   "codemirror_mode": {
    "name": "ipython",
    "version": 3
   },
   "file_extension": ".py",
   "mimetype": "text/x-python",
   "name": "python",
   "nbconvert_exporter": "python",
   "pygments_lexer": "ipython3",
   "version": "3.11.2"
  }
 },
 "nbformat": 4,
 "nbformat_minor": 5
}
