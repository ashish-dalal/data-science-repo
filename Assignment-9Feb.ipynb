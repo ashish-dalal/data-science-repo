{
 "cells": [
  {
   "cell_type": "markdown",
   "id": "c986d5da-62db-4bd6-a4db-b270550433c1",
   "metadata": {},
   "source": [
    "Q1, Create a vehicle class with an init method having instance variables as name_of_vehicle, max_speed\n",
    "and average_of_vehicle."
   ]
  },
  {
   "cell_type": "code",
   "execution_count": 3,
   "id": "6789a43c-be26-4025-9577-cca3bb3870b9",
   "metadata": {
    "tags": []
   },
   "outputs": [],
   "source": [
    "class vehicle:\n",
    "    \n",
    "    def __init__(self, name_of_vehicle, max_speed, average_of_vehicle):\n",
    "        self.name_of_vehicle = name_of_vehicle\n",
    "        self.max_speed = max_speed\n",
    "        self.average_of_vehicle = average_of_vehicle\n",
    "        "
   ]
  },
  {
   "cell_type": "markdown",
   "id": "8bfb082d-89c4-4042-b524-6c1990c3344f",
   "metadata": {},
   "source": [
    "Q2. Create a child class car from the vehicle class created in Que 1, which will inherit the vehicle class.\n",
    "Create a method named seating_capacity which takes capacity as an argument and returns the name of\n",
    "the vehicle and its seating capacity."
   ]
  },
  {
   "cell_type": "code",
   "execution_count": 4,
   "id": "e0bdb6ae-9602-4c75-b909-350158b30f5e",
   "metadata": {
    "tags": []
   },
   "outputs": [],
   "source": [
    "class car(vehicle):\n",
    "    \n",
    "    def seating_capacity(self, capacity):\n",
    "        return capacity, self.name_of_vehicle\n",
    "        \n",
    "    "
   ]
  },
  {
   "cell_type": "code",
   "execution_count": 5,
   "id": "4e0527bd-1c18-484a-ba0b-9fe8bc373f17",
   "metadata": {
    "tags": []
   },
   "outputs": [],
   "source": [
    "maruti = car('swift', 130, 19)"
   ]
  },
  {
   "cell_type": "code",
   "execution_count": 6,
   "id": "5188cb52-ad4d-48b1-80fb-038341eaeb98",
   "metadata": {
    "tags": []
   },
   "outputs": [
    {
     "data": {
      "text/plain": [
       "130"
      ]
     },
     "execution_count": 6,
     "metadata": {},
     "output_type": "execute_result"
    }
   ],
   "source": [
    "maruti.max_speed"
   ]
  },
  {
   "cell_type": "code",
   "execution_count": 7,
   "id": "5f48b8e3-a0cc-47ee-bb1e-dc4ae4dec868",
   "metadata": {
    "tags": []
   },
   "outputs": [
    {
     "data": {
      "text/plain": [
       "(5, 'swift')"
      ]
     },
     "execution_count": 7,
     "metadata": {},
     "output_type": "execute_result"
    }
   ],
   "source": [
    "maruti.seating_capacity(5)"
   ]
  },
  {
   "cell_type": "markdown",
   "id": "e4e92185-7070-45f1-95e2-6d9a809ce32f",
   "metadata": {},
   "source": [
    "Q3. What is multiple inheritance? Write a python code to demonstrate multiple inheritance."
   ]
  },
  {
   "cell_type": "markdown",
   "id": "591fd97a-7ca3-4648-a430-fd57f28014aa",
   "metadata": {},
   "source": [
    "==> when a sub-class is created from 2 different parent classes, this type of inheritance is known as multiple inheritance"
   ]
  },
  {
   "cell_type": "code",
   "execution_count": 8,
   "id": "3446fca0-9aaa-4e8b-a8a7-ce3935d7956f",
   "metadata": {
    "tags": []
   },
   "outputs": [],
   "source": [
    "class class1:\n",
    "    pass\n",
    "\n",
    "class class2:\n",
    "    pass\n",
    "\n",
    "class class3(class1, class2):\n",
    "    pass"
   ]
  },
  {
   "cell_type": "code",
   "execution_count": 9,
   "id": "ec9705c6-66a9-4938-8b56-0507dac68be6",
   "metadata": {
    "tags": []
   },
   "outputs": [],
   "source": [
    "j = class3()"
   ]
  },
  {
   "cell_type": "code",
   "execution_count": 10,
   "id": "0bd8c672-e431-41fb-80fb-199bd4d86b69",
   "metadata": {
    "tags": []
   },
   "outputs": [
    {
     "data": {
      "text/plain": [
       "__main__.class3"
      ]
     },
     "execution_count": 10,
     "metadata": {},
     "output_type": "execute_result"
    }
   ],
   "source": [
    "type(j)"
   ]
  },
  {
   "cell_type": "markdown",
   "id": "e8865528-53a2-4da7-b2ff-edb241e7af94",
   "metadata": {},
   "source": [
    "Q4. What are getter and setter in python? Create a class and create a getter and a setter method in this\n",
    "class."
   ]
  },
  {
   "cell_type": "markdown",
   "id": "987769a2-6439-406a-add5-29c042ae11ed",
   "metadata": {},
   "source": [
    "==> getter and setter are used to avoid direct access of private variables or avoid being modified directly by external user.\n",
    "getter is property decorator in python which is used to retreive an attribute value and setter is used to modify an attribute value."
   ]
  },
  {
   "cell_type": "code",
   "execution_count": 3,
   "id": "fc080e0a-c243-46e3-ba6b-eefd1b52a7bb",
   "metadata": {
    "tags": []
   },
   "outputs": [],
   "source": [
    "class student:\n",
    "    \n",
    "    def __init__(self, name, age, city):\n",
    "        self.name = name\n",
    "        self.__age = age\n",
    "        self.city = city\n",
    "    \n",
    "    @property\n",
    "    def getAge(self):\n",
    "        return self.__age\n",
    "    \n",
    "    @getAge.setter\n",
    "    def setAge(self, newAge):\n",
    "        self.__age = newAge if newAge>0 else self.__age\n",
    "    \n",
    "    @getAge.deleter\n",
    "    def delAge(self):\n",
    "        del self.__age"
   ]
  },
  {
   "cell_type": "code",
   "execution_count": 4,
   "id": "de716d4d-dc87-485e-844b-4bf049ccbac5",
   "metadata": {
    "tags": []
   },
   "outputs": [],
   "source": [
    "s1 = student('ashish', 20, 'varanasi')"
   ]
  },
  {
   "cell_type": "code",
   "execution_count": 5,
   "id": "94d7e819-c44a-48c3-9792-14b5120b927a",
   "metadata": {
    "tags": []
   },
   "outputs": [
    {
     "data": {
      "text/plain": [
       "20"
      ]
     },
     "execution_count": 5,
     "metadata": {},
     "output_type": "execute_result"
    }
   ],
   "source": [
    "s1.getAge"
   ]
  },
  {
   "cell_type": "code",
   "execution_count": 7,
   "id": "1d667e79-625c-478b-bd0c-8517b68a0551",
   "metadata": {
    "tags": []
   },
   "outputs": [],
   "source": [
    "s1.setAge = 19"
   ]
  },
  {
   "cell_type": "code",
   "execution_count": 8,
   "id": "16b5da57-2d22-4dba-865b-5270ba5f001d",
   "metadata": {
    "tags": []
   },
   "outputs": [
    {
     "data": {
      "text/plain": [
       "19"
      ]
     },
     "execution_count": 8,
     "metadata": {},
     "output_type": "execute_result"
    }
   ],
   "source": [
    "s1.getAge"
   ]
  },
  {
   "cell_type": "markdown",
   "id": "4207b5e2-c4d7-481e-b2f6-326ac4f1ea72",
   "metadata": {},
   "source": [
    "Q5.What is method overriding in python? Write a python code to demonstrate method overriding."
   ]
  },
  {
   "cell_type": "code",
   "execution_count": null,
   "id": "c7cda934-4b85-4700-8e69-b14c2ad21aac",
   "metadata": {},
   "outputs": [],
   "source": []
  }
 ],
 "metadata": {
  "kernelspec": {
   "display_name": "Python 3 (ipykernel)",
   "language": "python",
   "name": "python3"
  },
  "language_info": {
   "codemirror_mode": {
    "name": "ipython",
    "version": 3
   },
   "file_extension": ".py",
   "mimetype": "text/x-python",
   "name": "python",
   "nbconvert_exporter": "python",
   "pygments_lexer": "ipython3",
   "version": "3.11.2"
  }
 },
 "nbformat": 4,
 "nbformat_minor": 5
}
